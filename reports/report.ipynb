{
 "metadata": {
  "language_info": {
   "codemirror_mode": {
    "name": "ipython",
    "version": 3
   },
   "file_extension": ".py",
   "mimetype": "text/x-python",
   "name": "python",
   "nbconvert_exporter": "python",
   "pygments_lexer": "ipython3",
   "version": "3.8.5"
  },
  "orig_nbformat": 2,
  "kernelspec": {
   "name": "python385jvsc74a57bd06804ccb5ff247747af0538af36889a18b2c04cfd814e1dafee83181860a424e3",
   "display_name": "Python 3.8.5 64-bit ('base': conda)"
  }
 },
 "nbformat": 4,
 "nbformat_minor": 2,
 "cells": [
  {
   "cell_type": "code",
   "execution_count": 2,
   "metadata": {},
   "outputs": [],
   "source": [
    "from functions import *\n",
    "import pandas as pd\n",
    "import numpy as np\n",
    "import matplotlib.pyplot as plt\n",
    "%config Completer.use_jedi = False\n",
    "%matplotlib inline\n",
    "\n",
    "font = {'size': 15}"
   ]
  },
  {
   "cell_type": "code",
   "execution_count": null,
   "metadata": {},
   "outputs": [],
   "source": [
    "## Import dei dati\n",
    "#quì importiamo i dati dei sampling in dataframes pandas, la colonna dei numeri d'onda è una unica per tutti\n",
    "data = pd.read_csv('../data/raw/S1_mapA_11x11.txt', delim_whitespace=True, names=names)\n",
    "data_bkg = pd.read_csv('../data/raw/S1_bkg_mapA_11x11.txt', delim_whitespace=True, names=names)"
   ]
  },
  {
   "cell_type": "code",
   "execution_count": null,
   "metadata": {},
   "outputs": [],
   "source": [
    "#import degli spettri puri\n",
    "pure_material_names,pure_materials=import_pure_spectra('../data/raw/Database Raman/BANK_LIST.dat','../data/raw/Database Raman/')"
   ]
  },
  {
   "source": [
    "# Explortory data analysis"
   ],
   "cell_type": "markdown",
   "metadata": {}
  },
  {
   "source": [
    "## Spettri puri\n",
    "Andiamo prima di tutto a vedere come sono fatti gli spettri dei materiali puri che, come capiamo subito, sono molto meno rumorosi rispetto agli spettri del nostro campione. \n",
    "\n",
    "Di seguito plottiamo come esempio lo **spettro puro dell'Albite**. \n",
    "\n",
    "Notiamo come lo spettro è poco rumoroso e non presenti offset significativi inoltre lontano dalle frequenze di assorbimento degli stati rotazionali/vibrazionali delle molecole lo spettro va a zero. \n",
    "\n"
   ],
   "cell_type": "markdown",
   "metadata": {}
  },
  {
   "cell_type": "code",
   "execution_count": null,
   "metadata": {},
   "outputs": [],
   "source": [
    "raman_plot()\n",
    "plt.plot(pure_materials.Albite_wn,pure_materials.Albite_I)\n",
    "plt.legend(['Albite']);\n",
    "plt.rc('font',**font)"
   ]
  },
  {
   "source": [
    "Vogliamo ora comparare diversi spettri puri per imparare il più possibile l'andamento delle curve Raman. Notiamo che gli spettri raman dei materiali puri non sono normalizzati tra di loro. \n",
    "\n",
    "Dato che l'area sotto lo spettro risulta proporzionale al tempo di esposizione della misura (fonte: pdf di introduzione), questa non è una quantità a cui siamo interessati, scegliamo di normalizzare in modo che tutti gli spettri abbiamo area unitaria. Il seguente è il risultato.\n",
    "\n",
    "![pure normalized spectrums.](./figures/pure_normalized spectrums.png)\n",
    "\n",
    "Notiamo che nessuno degli spettri puri presenta un rumore rilevante, assumiamo dunque che questi spettri rappresentino gli spettri Raman corretti per i materiali nella lista.\n",
    "\n",
    "Assumiamo inoltre che i materiali puri dati coprano quelli di cui sono composti i nostri campioni incogniti (anche se questo non fosse vero è sufficente che coprano i materiali principali).\n",
    "\n",
    "Osservando il grafico appena plottato deduciamo che:\n",
    "\n",
    "1. **Per numeri d'onda superiori a 1230 $cm^{-1}$ (linea arancione verticale) tutti gli spettri Raman non presentano picchi rilevanti, l'intensità a piccole lunghezze d'onda è nulla.**\n",
    "2. **Gli spettri Raman, relativamente alle altezze dei picchi, non presentano un offset rilevante. Nella coda del grafico tutti gli spettri Raman vanno a zero.**\n",
    "3. **Le FWHM dei picchi sono, certe volte, importanti: fino a 100 $cm^{-1}$.**\n",
    "4. **Lo spettro fino a circa 1230 $cm^{-1}$ è densamente popolato.**"
   ],
   "cell_type": "markdown",
   "metadata": {}
  },
  {
   "source": [
    "## Spettri incogniti\n",
    "### Con cosa stiamo lavorando?\n",
    "Andiamo a vedere come sono gli **spettri sperimentali**, abbiamo visto che gli spettri con rumore di fondo non contengono informazioni ulteriori rispetto a quelli a background rimosso, dunque non li prendiamo in considerazione. Ne plottiamo alcuni (i primi) e poi tutti per capire con cosa stiamo lavorando.\n",
    "\n",
    "![first spectrums.](./figures/first_spectrums.png)\n",
    "\n",
    "![all spectrums.](./figures/all_spectrums.png)\n",
    "\n",
    "Da questi grafici prendiamo le seguenti scelte nel trattare i dati.\n",
    "\n",
    "**Rimozione dell'offset**\n",
    "\n",
    "Come abbiamo visto dagli spettri puri, diversamente dagli spettri incogniti nessuno spettro presentava un offset rilevante. \n",
    "\n",
    "Per eliminare/ridurre questo offset utilizziamo il fatto che l'intensita' di tutti gli spettri puri per wave number > 1230 $cm^{-1}$ va a zero.\n",
    "\n",
    "Imponiamo dunque questo constrain agli spettri incogiti per rimuovere l'offset (calcoliamo l'offset sulla coda e lo sottraiamo a tutto lo spettro). \n",
    "\n",
    "**Scegliamo di eliminare la parte destra del grafico**\n",
    "\n",
    "Questo perchè, come si vede dagli spettri puri, non abbiamo picchi oltre alla frequenza di soglia fissata a $1230 cm^{-1}$.\n",
    "\n",
    "**Normalizzazione degli spettri del sample**\n",
    "\n",
    "Normalizziamo in fine i dati per poterli confrontare."
   ],
   "cell_type": "markdown",
   "metadata": {}
  },
  {
   "source": [
    "## Risultato dell'EDA\n",
    "Importiamo i dati elaborati come spiegato (utilizzando make) e vediamo il risultato."
   ],
   "cell_type": "markdown",
   "metadata": {}
  },
  {
   "source": [
    "data = pd.read_csv('../repo_raman/data/EDA_processed_data.dat')\n",
    "names=define_names() #definisce il nome degli spettri del campione\n",
    "data.head()"
   ],
   "cell_type": "code",
   "metadata": {},
   "execution_count": null,
   "outputs": []
  },
  {
   "cell_type": "code",
   "execution_count": null,
   "metadata": {},
   "outputs": [],
   "source": [
    "raman_plot()\n",
    "plt.rc('font',**font)\n",
    "for temp in names[1:]:\n",
    "    plt.plot(data.wn,data_bkg[temp])"
   ]
  }
 ]
}