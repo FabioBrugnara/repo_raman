{
 "cells": [
  {
   "cell_type": "code",
   "execution_count": 1,
   "metadata": {
    "code_folding": [
     7
    ]
   },
   "outputs": [],
   "source": [
    "import numpy as np\n",
    "import pandas as pd\n",
    "from sklearn.cluster import DBSCAN, OPTICS, KMeans\n",
    "import matplotlib.pyplot as plt\n",
    "import seaborn as sns\n",
    "from sklearn.linear_model import LinearRegression\n",
    "#from module import *\n",
    "%matplotlib inline\n",
    "def raman_plot():\n",
    "    \"\"\"\n",
    "    Funzione che serve per settare la dimensione dell'immgine e i label degli assi per un plot di spettro Raman.\n",
    "    \"\"\"\n",
    "    plt.figure(figsize=(16,6))\n",
    "    plt.xlabel(\"wave number [1/cm]\")\n",
    "    plt.ylabel(\"Intensity\")"
   ]
  },
  {
   "cell_type": "markdown",
   "metadata": {},
   "source": [
    "# Import dei dati"
   ]
  },
  {
   "cell_type": "code",
   "execution_count": 54,
   "metadata": {
    "scrolled": true
   },
   "outputs": [
    {
     "data": {
      "text/html": [
       "<div>\n",
       "<style scoped>\n",
       "    .dataframe tbody tr th:only-of-type {\n",
       "        vertical-align: middle;\n",
       "    }\n",
       "\n",
       "    .dataframe tbody tr th {\n",
       "        vertical-align: top;\n",
       "    }\n",
       "\n",
       "    .dataframe thead th {\n",
       "        text-align: right;\n",
       "    }\n",
       "</style>\n",
       "<table border=\"1\" class=\"dataframe\">\n",
       "  <thead>\n",
       "    <tr style=\"text-align: right;\">\n",
       "      <th></th>\n",
       "      <th>wn</th>\n",
       "      <th>0</th>\n",
       "      <th>1</th>\n",
       "      <th>2</th>\n",
       "      <th>3</th>\n",
       "      <th>4</th>\n",
       "      <th>5</th>\n",
       "      <th>6</th>\n",
       "      <th>7</th>\n",
       "      <th>8</th>\n",
       "      <th>9</th>\n",
       "      <th>10</th>\n",
       "      <th>11</th>\n",
       "      <th>12</th>\n",
       "      <th>13</th>\n",
       "      <th>14</th>\n",
       "    </tr>\n",
       "  </thead>\n",
       "  <tbody>\n",
       "    <tr>\n",
       "      <th>0</th>\n",
       "      <td>184.0</td>\n",
       "      <td>-0.000100</td>\n",
       "      <td>-0.000228</td>\n",
       "      <td>-0.000177</td>\n",
       "      <td>-0.000039</td>\n",
       "      <td>-0.000022</td>\n",
       "      <td>0.000507</td>\n",
       "      <td>-0.000110</td>\n",
       "      <td>-0.000507</td>\n",
       "      <td>0.000240</td>\n",
       "      <td>-0.000344</td>\n",
       "      <td>0.000150</td>\n",
       "      <td>1.721492e-04</td>\n",
       "      <td>-0.000722</td>\n",
       "      <td>-0.000230</td>\n",
       "      <td>-0.000204</td>\n",
       "    </tr>\n",
       "    <tr>\n",
       "      <th>1</th>\n",
       "      <td>185.0</td>\n",
       "      <td>-0.000055</td>\n",
       "      <td>-0.000169</td>\n",
       "      <td>-0.000216</td>\n",
       "      <td>0.000040</td>\n",
       "      <td>-0.000007</td>\n",
       "      <td>0.000671</td>\n",
       "      <td>-0.000112</td>\n",
       "      <td>-0.000359</td>\n",
       "      <td>0.000084</td>\n",
       "      <td>-0.000282</td>\n",
       "      <td>0.000154</td>\n",
       "      <td>9.756678e-05</td>\n",
       "      <td>-0.000772</td>\n",
       "      <td>-0.000257</td>\n",
       "      <td>-0.000253</td>\n",
       "    </tr>\n",
       "    <tr>\n",
       "      <th>2</th>\n",
       "      <td>186.0</td>\n",
       "      <td>-0.000061</td>\n",
       "      <td>-0.000159</td>\n",
       "      <td>-0.000233</td>\n",
       "      <td>0.000039</td>\n",
       "      <td>-0.000012</td>\n",
       "      <td>0.000725</td>\n",
       "      <td>-0.000118</td>\n",
       "      <td>-0.000349</td>\n",
       "      <td>0.000030</td>\n",
       "      <td>-0.000275</td>\n",
       "      <td>0.000135</td>\n",
       "      <td>5.995975e-05</td>\n",
       "      <td>-0.000794</td>\n",
       "      <td>-0.000273</td>\n",
       "      <td>-0.000275</td>\n",
       "    </tr>\n",
       "    <tr>\n",
       "      <th>3</th>\n",
       "      <td>187.0</td>\n",
       "      <td>-0.000075</td>\n",
       "      <td>-0.000148</td>\n",
       "      <td>-0.000247</td>\n",
       "      <td>0.000005</td>\n",
       "      <td>-0.000024</td>\n",
       "      <td>0.000790</td>\n",
       "      <td>-0.000113</td>\n",
       "      <td>-0.000355</td>\n",
       "      <td>-0.000052</td>\n",
       "      <td>-0.000292</td>\n",
       "      <td>0.000100</td>\n",
       "      <td>2.595913e-07</td>\n",
       "      <td>-0.000816</td>\n",
       "      <td>-0.000273</td>\n",
       "      <td>-0.000296</td>\n",
       "    </tr>\n",
       "    <tr>\n",
       "      <th>4</th>\n",
       "      <td>188.0</td>\n",
       "      <td>-0.000110</td>\n",
       "      <td>-0.000141</td>\n",
       "      <td>-0.000251</td>\n",
       "      <td>-0.000103</td>\n",
       "      <td>-0.000050</td>\n",
       "      <td>0.000860</td>\n",
       "      <td>-0.000085</td>\n",
       "      <td>-0.000412</td>\n",
       "      <td>-0.000182</td>\n",
       "      <td>-0.000371</td>\n",
       "      <td>0.000030</td>\n",
       "      <td>-9.934144e-05</td>\n",
       "      <td>-0.000837</td>\n",
       "      <td>-0.000235</td>\n",
       "      <td>-0.000314</td>\n",
       "    </tr>\n",
       "  </tbody>\n",
       "</table>\n",
       "</div>"
      ],
      "text/plain": [
       "      wn         0         1         2         3         4         5  \\\n",
       "0  184.0 -0.000100 -0.000228 -0.000177 -0.000039 -0.000022  0.000507   \n",
       "1  185.0 -0.000055 -0.000169 -0.000216  0.000040 -0.000007  0.000671   \n",
       "2  186.0 -0.000061 -0.000159 -0.000233  0.000039 -0.000012  0.000725   \n",
       "3  187.0 -0.000075 -0.000148 -0.000247  0.000005 -0.000024  0.000790   \n",
       "4  188.0 -0.000110 -0.000141 -0.000251 -0.000103 -0.000050  0.000860   \n",
       "\n",
       "          6         7         8         9        10            11        12  \\\n",
       "0 -0.000110 -0.000507  0.000240 -0.000344  0.000150  1.721492e-04 -0.000722   \n",
       "1 -0.000112 -0.000359  0.000084 -0.000282  0.000154  9.756678e-05 -0.000772   \n",
       "2 -0.000118 -0.000349  0.000030 -0.000275  0.000135  5.995975e-05 -0.000794   \n",
       "3 -0.000113 -0.000355 -0.000052 -0.000292  0.000100  2.595913e-07 -0.000816   \n",
       "4 -0.000085 -0.000412 -0.000182 -0.000371  0.000030 -9.934144e-05 -0.000837   \n",
       "\n",
       "         13        14  \n",
       "0 -0.000230 -0.000204  \n",
       "1 -0.000257 -0.000253  \n",
       "2 -0.000273 -0.000275  \n",
       "3 -0.000273 -0.000296  \n",
       "4 -0.000235 -0.000314  "
      ]
     },
     "execution_count": 54,
     "metadata": {},
     "output_type": "execute_result"
    }
   ],
   "source": [
    "# import dei centroidi\n",
    "data = pd.read_csv(\"../data/processed/CLUSTERING_data_centres.csv\")\n",
    "data.drop(labels='Unnamed: 0',inplace=True,axis=1)\n",
    "data.head()"
   ]
  },
  {
   "cell_type": "code",
   "execution_count": 3,
   "metadata": {},
   "outputs": [],
   "source": [
    "# import degli spettri puri\n",
    "# definisco i nomi dei vari materiali usando il file che li contiene tutti\n",
    "pure_material_names=[]\n",
    "with open('../data/raw/Database Raman/BANK_LIST.dat') as f:\n",
    "    pure_material_names=[i[1:len(i)-5] for i in f.readlines()]\n",
    "l=[]\n",
    "# calcolo la dimensione del materiale puro con più dati\n",
    "for i in range(len(pure_material_names)):\n",
    "    l.append(pd.read_csv('../data/raw/Database Raman/'+pure_material_names[i]+'.txt', delim_whitespace=True, names=[pure_material_names[i]+'_wl',pure_material_names[i]+'_I']).size)\n",
    "max_size=int(max(l)/2)\n",
    "# genero un dataframe vuoto per poter usare il metodo join\n",
    "pure_materials = pd.DataFrame(np.zeros(max_size),columns=['empty'])\n",
    "# importiamo i dati: nome_I (intensità) e nome_wn\n",
    "for i in range(len(pure_material_names)):\n",
    "    pure_materials=pure_materials.join(pd.read_csv('../data/raw/Database Raman/'+pure_material_names[i]+'.txt', delim_whitespace=True, names=[pure_material_names[i]+'_wn',pure_material_names[i]+'_I']))\n",
    "    \n",
    "pure_materials.drop('empty', axis = 1,inplace=True)"
   ]
  },
  {
   "cell_type": "markdown",
   "metadata": {},
   "source": [
    "# Interpolazione"
   ]
  },
  {
   "cell_type": "markdown",
   "metadata": {},
   "source": [
    "Ora devo interpolare gli spettri puri ai dati"
   ]
  },
  {
   "cell_type": "code",
   "execution_count": 4,
   "metadata": {},
   "outputs": [],
   "source": [
    "pure_materials_interpoled=pd.DataFrame(data.wn.copy())\n",
    "for temp in pure_material_names:\n",
    "    pure_materials_interpoled=pure_materials_interpoled.join(pd.DataFrame(np.interp(data.wn, pure_materials[temp+'_wn'] ,pure_materials[temp+'_I']),columns=[temp]))\n"
   ]
  },
  {
   "cell_type": "code",
   "execution_count": 5,
   "metadata": {},
   "outputs": [],
   "source": [
    "#Normalizzazione\n",
    "for i in pure_material_names:\n",
    "    pure_materials_interpoled[i]=pure_materials_interpoled[i]/np.trapz(abs(pure_materials_interpoled[i].dropna()), x=pure_materials_interpoled[i])"
   ]
  },
  {
   "cell_type": "markdown",
   "metadata": {},
   "source": [
    "# Fit"
   ]
  },
  {
   "cell_type": "code",
   "execution_count": 55,
   "metadata": {},
   "outputs": [],
   "source": [
    "ols = LinearRegression(positive=True) #definisco il regressore"
   ]
  },
  {
   "cell_type": "code",
   "execution_count": 79,
   "metadata": {},
   "outputs": [],
   "source": [
    "N_cluster=len(data.columns)-1\n",
    "coeff=[]\n",
    "for i in range(N_cluster):\n",
    "    ols.fit(pure_materials_interpoled[pure_material_names], data[str(i)])#ottimizziamo il modello (lineare) su i dati di training\n",
    "    coeff.append(ols.coef_)\n",
    "    "
   ]
  },
  {
   "cell_type": "code",
   "execution_count": null,
   "metadata": {},
   "outputs": [],
   "source": []
  },
  {
   "cell_type": "code",
   "execution_count": null,
   "metadata": {},
   "outputs": [],
   "source": []
  },
  {
   "cell_type": "code",
   "execution_count": 63,
   "metadata": {},
   "outputs": [
    {
     "data": {
      "text/plain": [
       "LinearRegression(positive=True)"
      ]
     },
     "execution_count": 63,
     "metadata": {},
     "output_type": "execute_result"
    }
   ],
   "source": [
    "ols.fit(pure_materials_interpoled[pure_material_names], data['1'])#ottimizziamo il modello (lineare) su i dati di training"
   ]
  },
  {
   "cell_type": "code",
   "execution_count": 64,
   "metadata": {},
   "outputs": [
    {
     "data": {
      "text/plain": [
       "'Monticellite'"
      ]
     },
     "execution_count": 64,
     "metadata": {},
     "output_type": "execute_result"
    }
   ],
   "source": [
    "np.where(ols.coef_==ols.coef_.max()) #i miei w, vediamo che, come si vedeva dal grafico\n",
    "pure_material_names[41]"
   ]
  },
  {
   "cell_type": "code",
   "execution_count": 65,
   "metadata": {},
   "outputs": [
    {
     "data": {
      "text/plain": [
       "array([0.00000000e+00, 0.00000000e+00, 0.00000000e+00, 0.00000000e+00,\n",
       "       0.00000000e+00, 0.00000000e+00, 0.00000000e+00, 0.00000000e+00,\n",
       "       0.00000000e+00, 1.04908131e-06, 0.00000000e+00, 0.00000000e+00,\n",
       "       1.78994905e-03, 2.64867083e-05, 0.00000000e+00, 0.00000000e+00,\n",
       "       0.00000000e+00, 0.00000000e+00, 0.00000000e+00, 0.00000000e+00,\n",
       "       3.57805763e-04, 0.00000000e+00, 0.00000000e+00, 0.00000000e+00,\n",
       "       0.00000000e+00, 0.00000000e+00, 2.85645880e-07, 1.18644085e-05,\n",
       "       0.00000000e+00, 0.00000000e+00, 0.00000000e+00, 0.00000000e+00,\n",
       "       0.00000000e+00, 0.00000000e+00, 0.00000000e+00, 0.00000000e+00,\n",
       "       0.00000000e+00, 0.00000000e+00, 6.86064264e-05, 9.38393266e-05,\n",
       "       0.00000000e+00, 0.00000000e+00, 7.94603940e+00, 5.24725777e-04,\n",
       "       0.00000000e+00, 0.00000000e+00, 0.00000000e+00, 0.00000000e+00,\n",
       "       1.73334040e-06, 6.75817248e-05, 0.00000000e+00, 0.00000000e+00,\n",
       "       0.00000000e+00, 0.00000000e+00, 0.00000000e+00, 0.00000000e+00,\n",
       "       1.01395273e-02, 2.06838836e-03, 0.00000000e+00, 0.00000000e+00,\n",
       "       0.00000000e+00])"
      ]
     },
     "execution_count": 65,
     "metadata": {},
     "output_type": "execute_result"
    }
   ],
   "source": [
    "a=np.sum(pure_materials_interpoled[pure_material_names]*ols.coef_,axis=1)\n",
    "ols.coef_"
   ]
  },
  {
   "cell_type": "code",
   "execution_count": 49,
   "metadata": {},
   "outputs": [
    {
     "data": {
      "text/plain": [
       "[<matplotlib.lines.Line2D at 0x7ff8acde45b0>]"
      ]
     },
     "execution_count": 49,
     "metadata": {},
     "output_type": "execute_result"
    },
    {
     "data": {
      "image/png": "[encoded data removed]",
      "text/plain": [
       "<Figure size 432x288 with 1 Axes>"
      ]
     },
     "metadata": {
      "needs_background": "light"
     },
     "output_type": "display_data"
    }
   ],
   "source": [
    "plt.plot(data.wn,a)\n",
    "plt.plot(data.wn,data['1'])"
   ]
  },
  {
   "cell_type": "code",
   "execution_count": null,
   "metadata": {},
   "outputs": [],
   "source": []
  }
 ],
 "metadata": {
  "kernelspec": {
   "display_name": "Python 3",
   "language": "python",
   "name": "python3"
  },
  "language_info": {
   "codemirror_mode": {
    "name": "ipython",
    "version": 3
   },
   "file_extension": ".py",
   "mimetype": "text/x-python",
   "name": "python",
   "nbconvert_exporter": "python",
   "pygments_lexer": "ipython3",
   "version": "3.8.8"
  },
  "latex_envs": {
   "LaTeX_envs_menu_present": true,
   "autoclose": false,
   "autocomplete": true,
   "bibliofile": "biblio.bib",
   "cite_by": "apalike",
   "current_citInitial": 1,
   "eqLabelWithNumbers": true,
   "eqNumInitial": 1,
   "hotkeys": {
    "equation": "Ctrl-E",
    "itemize": "Ctrl-I"
   },
   "labels_anchors": false,
   "latex_user_defs": false,
   "report_style_numbering": false,
   "user_envs_cfg": false
  },
  "toc": {
   "base_numbering": 1,
   "nav_menu": {},
   "number_sections": true,
   "sideBar": true,
   "skip_h1_title": false,
   "title_cell": "Table of Contents",
   "title_sidebar": "Contents",
   "toc_cell": false,
   "toc_position": {},
   "toc_section_display": true,
   "toc_window_display": false
  },
  "varInspector": {
   "cols": {
    "lenName": 16,
    "lenType": 16,
    "lenVar": 40
   },
   "kernels_config": {
    "python": {
     "delete_cmd_postfix": "",
     "delete_cmd_prefix": "del ",
     "library": "var_list.py",
     "varRefreshCmd": "print(var_dic_list())"
    },
    "r": {
     "delete_cmd_postfix": ") ",
     "delete_cmd_prefix": "rm(",
     "library": "var_list.r",
     "varRefreshCmd": "cat(var_dic_list()) "
    }
   },
   "types_to_exclude": [
    "module",
    "function",
    "builtin_function_or_method",
    "instance",
    "_Feature"
   ],
   "window_display": false
  }
 },
 "nbformat": 4,
 "nbformat_minor": 2
}
