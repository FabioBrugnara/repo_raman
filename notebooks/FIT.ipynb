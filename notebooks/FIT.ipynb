{
 "cells": [
  {
   "cell_type": "code",
   "execution_count": 1,
   "metadata": {
    "code_folding": [
     7
    ]
   },
   "outputs": [],
   "source": [
    "import numpy as np\n",
    "import pandas as pd\n",
    "from sklearn.cluster import DBSCAN, OPTICS, KMeans\n",
    "import matplotlib.pyplot as plt\n",
    "import seaborn as sns\n",
    "from sklearn.linear_model import LinearRegression\n",
    "#from module import *\n",
    "%matplotlib inline\n",
    "def raman_plot():\n",
    "    \"\"\"\n",
    "    Funzione che serve per settare la dimensione dell'immgine e i label degli assi per un plot di spettro Raman.\n",
    "    \"\"\"\n",
    "    plt.figure(figsize=(16,6))\n",
    "    plt.xlabel(\"wave number [1/cm]\")\n",
    "    plt.ylabel(\"Intensity\")"
   ]
  },
  {
   "cell_type": "markdown",
   "metadata": {},
   "source": [
    "# Import dei dati"
   ]
  },
  {
   "cell_type": "code",
   "execution_count": 59,
   "metadata": {
    "scrolled": true
   },
   "outputs": [],
   "source": [
    "# import dei centroidi\n",
    "data = pd.read_csv(\"../data/processed/CLUSTERING_data_centres.csv\")\n",
    "data.drop(labels='Unnamed: 0',inplace=True,axis=1)"
   ]
  },
  {
   "cell_type": "code",
   "execution_count": 3,
   "metadata": {},
   "outputs": [],
   "source": [
    "# import degli spettri puri\n",
    "# definisco i nomi dei vari materiali usando il file che li contiene tutti\n",
    "pure_material_names=[]\n",
    "with open('../data/raw/Database Raman/BANK_LIST.dat') as f:\n",
    "    pure_material_names=[i[1:len(i)-5] for i in f.readlines()]\n",
    "l=[]\n",
    "# calcolo la dimensione del materiale puro con più dati\n",
    "for i in range(len(pure_material_names)):\n",
    "    l.append(pd.read_csv('../data/raw/Database Raman/'+pure_material_names[i]+'.txt', delim_whitespace=True, names=[pure_material_names[i]+'_wl',pure_material_names[i]+'_I']).size)\n",
    "max_size=int(max(l)/2)\n",
    "# genero un dataframe vuoto per poter usare il metodo join\n",
    "pure_materials = pd.DataFrame(np.zeros(max_size),columns=['empty'])\n",
    "# importiamo i dati: nome_I (intensità) e nome_wn\n",
    "for i in range(len(pure_material_names)):\n",
    "    pure_materials=pure_materials.join(pd.read_csv('../data/raw/Database Raman/'+pure_material_names[i]+'.txt', delim_whitespace=True, names=[pure_material_names[i]+'_wn',pure_material_names[i]+'_I']))\n",
    "    \n",
    "pure_materials.drop('empty', axis = 1,inplace=True)"
   ]
  },
  {
   "cell_type": "code",
   "execution_count": 14,
   "metadata": {},
   "outputs": [],
   "source": [
    "#import dei pesi dei cluster\n",
    "labels=np.loadtxt(\"../data/processed/CLUSTERING_weights.txt\")"
   ]
  },
  {
   "cell_type": "markdown",
   "metadata": {},
   "source": [
    "# Interpolazione"
   ]
  },
  {
   "cell_type": "markdown",
   "metadata": {},
   "source": [
    "Ora devo interpolare gli spettri puri ai dati"
   ]
  },
  {
   "cell_type": "code",
   "execution_count": 4,
   "metadata": {},
   "outputs": [],
   "source": [
    "pure_materials_interpoled=pd.DataFrame(data.wn.copy())\n",
    "for temp in pure_material_names:\n",
    "    pure_materials_interpoled=pure_materials_interpoled.join(pd.DataFrame(np.interp(data.wn, pure_materials[temp+'_wn'] ,pure_materials[temp+'_I']),columns=[temp]))\n"
   ]
  },
  {
   "cell_type": "code",
   "execution_count": 5,
   "metadata": {},
   "outputs": [],
   "source": [
    "#Normalizzazione\n",
    "for i in pure_material_names:\n",
    "    pure_materials_interpoled[i]=pure_materials_interpoled[i]/np.trapz(abs(pure_materials_interpoled[i].dropna()), x=pure_materials_interpoled[i])"
   ]
  },
  {
   "cell_type": "markdown",
   "metadata": {},
   "source": [
    "# Fit"
   ]
  },
  {
   "cell_type": "code",
   "execution_count": 6,
   "metadata": {},
   "outputs": [],
   "source": [
    "ols = LinearRegression(positive=True) #definisco il regressore"
   ]
  },
  {
   "cell_type": "code",
   "execution_count": 62,
   "metadata": {},
   "outputs": [],
   "source": [
    "N_cluster=len(data.columns)-1\n",
    "coeff=[]\n",
    "for i in range(N_cluster):\n",
    "    ols.fit(pure_materials_interpoled[pure_material_names], data[str(i)])#ottimizziamo il modello (lineare) su i dati di training\n",
    "    coeff.append(ols.coef_)"
   ]
  },
  {
   "cell_type": "markdown",
   "metadata": {},
   "source": [
    "Ora, tenendo conto dei pesi dei clustering, sommo i coeficienti pesandoli e poi li normalizzo, in modo da trovare le percentuali."
   ]
  },
  {
   "cell_type": "code",
   "execution_count": 64,
   "metadata": {},
   "outputs": [
    {
     "data": {
      "text/html": [
       "<div>\n",
       "<style scoped>\n",
       "    .dataframe tbody tr th:only-of-type {\n",
       "        vertical-align: middle;\n",
       "    }\n",
       "\n",
       "    .dataframe tbody tr th {\n",
       "        vertical-align: top;\n",
       "    }\n",
       "\n",
       "    .dataframe thead th {\n",
       "        text-align: right;\n",
       "    }\n",
       "</style>\n",
       "<table border=\"1\" class=\"dataframe\">\n",
       "  <thead>\n",
       "    <tr style=\"text-align: right;\">\n",
       "      <th></th>\n",
       "      <th>names</th>\n",
       "      <th>abbundances</th>\n",
       "    </tr>\n",
       "  </thead>\n",
       "  <tbody>\n",
       "    <tr>\n",
       "      <th>42</th>\n",
       "      <td>Montmorillonite</td>\n",
       "      <td>0.933737</td>\n",
       "    </tr>\n",
       "    <tr>\n",
       "      <th>0</th>\n",
       "      <td>Albite</td>\n",
       "      <td>0.032279</td>\n",
       "    </tr>\n",
       "    <tr>\n",
       "      <th>44</th>\n",
       "      <td>Nontronite</td>\n",
       "      <td>0.016749</td>\n",
       "    </tr>\n",
       "    <tr>\n",
       "      <th>46</th>\n",
       "      <td>Phlogopite</td>\n",
       "      <td>0.006659</td>\n",
       "    </tr>\n",
       "    <tr>\n",
       "      <th>29</th>\n",
       "      <td>Hedenbergite</td>\n",
       "      <td>0.001836</td>\n",
       "    </tr>\n",
       "  </tbody>\n",
       "</table>\n",
       "</div>"
      ],
      "text/plain": [
       "              names  abbundances\n",
       "42  Montmorillonite     0.933737\n",
       "0            Albite     0.032279\n",
       "44       Nontronite     0.016749\n",
       "46       Phlogopite     0.006659\n",
       "29     Hedenbergite     0.001836"
      ]
     },
     "execution_count": 64,
     "metadata": {},
     "output_type": "execute_result"
    }
   ],
   "source": [
    "#numero di spettri per cluster in ordine\n",
    "weights=[np.count_nonzero(labels==i) for i in range(len(data.columns)-1)] \n",
    "#moltiplico i coeficienti del cluster i-esimo per questo numero\n",
    "abbundances_notnormalized=[coeff[i]*weights[i] for i in range(len(data.columns)-1)]\n",
    "#e infine ho la media pesata dei coeficienti\n",
    "abbundances=sum(abbundances_notnormalized)/(sum(abbundances_notnormalized).sum())\n",
    "#Creo un Pandas dataframe con nomi e abbondanze\n",
    "abbundance_table=pd.DataFrame({'names':pure_material_names,'abbundances':abbundances})\n",
    "#riordino in base alla concenrazione\n",
    "abbundance_table.sort_values('abbundances',ascending=False,inplace=True)\n",
    "abbundance_table.head(5)"
   ]
  },
  {
   "cell_type": "code",
   "execution_count": null,
   "metadata": {},
   "outputs": [],
   "source": []
  }
 ],
 "metadata": {
  "kernelspec": {
   "display_name": "Python 3",
   "language": "python",
   "name": "python3"
  },
  "language_info": {
   "codemirror_mode": {
    "name": "ipython",
    "version": 3
   },
   "file_extension": ".py",
   "mimetype": "text/x-python",
   "name": "python",
   "nbconvert_exporter": "python",
   "pygments_lexer": "ipython3",
   "version": "3.8.8"
  },
  "latex_envs": {
   "LaTeX_envs_menu_present": true,
   "autoclose": false,
   "autocomplete": true,
   "bibliofile": "biblio.bib",
   "cite_by": "apalike",
   "current_citInitial": 1,
   "eqLabelWithNumbers": true,
   "eqNumInitial": 1,
   "hotkeys": {
    "equation": "Ctrl-E",
    "itemize": "Ctrl-I"
   },
   "labels_anchors": false,
   "latex_user_defs": false,
   "report_style_numbering": false,
   "user_envs_cfg": false
  },
  "toc": {
   "base_numbering": 1,
   "nav_menu": {},
   "number_sections": true,
   "sideBar": true,
   "skip_h1_title": false,
   "title_cell": "Table of Contents",
   "title_sidebar": "Contents",
   "toc_cell": false,
   "toc_position": {},
   "toc_section_display": true,
   "toc_window_display": false
  },
  "varInspector": {
   "cols": {
    "lenName": 16,
    "lenType": 16,
    "lenVar": 40
   },
   "kernels_config": {
    "python": {
     "delete_cmd_postfix": "",
     "delete_cmd_prefix": "del ",
     "library": "var_list.py",
     "varRefreshCmd": "print(var_dic_list())"
    },
    "r": {
     "delete_cmd_postfix": ") ",
     "delete_cmd_prefix": "rm(",
     "library": "var_list.r",
     "varRefreshCmd": "cat(var_dic_list()) "
    }
   },
   "types_to_exclude": [
    "module",
    "function",
    "builtin_function_or_method",
    "instance",
    "_Feature"
   ],
   "window_display": false
  }
 },
 "nbformat": 4,
 "nbformat_minor": 2
}