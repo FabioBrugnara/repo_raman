{
 "cells": [
  {
   "cell_type": "markdown",
   "id": "8a4c17db",
   "metadata": {},
   "source": [
    "# Consegna\n",
    "Lo scopo di questo progetto è duplice. Per ogni campione\n",
    "\n",
    "1. Fare una clusterizzazione degli spettri e verificare se questa correla con la posizione geometrica dei punti di rilievo\n",
    "2. Costruire un classificatore per il tipo di materiale\n",
    "\n",
    "Per il punto 2, verranno forniti dei label per ogni spettro più avanti. In prima istanza, si può procedere assegnando i label agli spettri sulla base della somiglianza con gli spettri di campioni puri contenuti nella cartella `Database Raman`.\n",
    "\n",
    "È richiesta inoltre una EDA degli spettri. Considerare:\n",
    "1. range in cui si trovano i picchi\n",
    "2. numero di picchi (se riuscite a misurarlo in modo automatico, e.g. basandosi sulle derivate, facoltativo)\n",
    "3. intensità (integrale) degli spettri\n",
    "4. ...\n",
    "\n",
    "\n",
    "## Dati forniti\n",
    "Vengono forniti, inizialmente, i seguenti dati (altri sono disponibili su richiesta).\n",
    "\n",
    "* Due campioni con e senza background noise rimosso\n",
    "* Una cartella `Database Raman` con gli spettri di riferimento (senza background) per diversi materiali puri.\n",
    "\n",
    "I file contenuti nella cartella `Database Raman` sono nominati a seconda del materiale e contengono ciascuno due colonne. La prima è il numero d'onda (unità 1/cm), cioè l'inverso della lunghezza d'onda. La seconda contiene l'intensità dello scattering raman misurato a quel numero d'onda.\n",
    "\n",
    "I file campione contengono gli spettri raccolti lungo una griglia di 11 righe x 11 colonne. Ogni punto dista dagli altri un micron. Ognuno di questi file contiene 122 colonne. La prima raccoglie i numeri d'onda, sempre in unità 1/cm, le restanti 121 gli spettri, ordinati come segue: le prime 11 colonne corrispondono alla prima riga di punti sul campione, le seconde 11 alla riga sottostante, e così via. \n",
    "\n",
    "Sono forniti due campioni, denominati `S1` e `S2`. Per ognuno di questi sono forniti due files: `_mapA` e `_bkg_mapA`. Nel secondo è stato rimosso il rumore di fondo (background), permettendo di confrontare più facilmente lo spettro con gli spettri di riferimento nella cartella `Database Raman`. \n",
    "\n",
    "Gli spettri **non sono normalizzati**. L'integrale delle curve corrisponde sperimentalmente all'esposizione e quindi al tempo di raccolta del segnale. Gli spettri a background rimosso e quelli nella cartella `Database Raman` si possono normalizzare al fine di compararli. \n",
    "\n",
    "Le finestre di acquisizione per gli spettri di riferimento e quelli raccolti sono diverse, ma le unità sono simili.\n",
    "\n",
    "Il file `RRUF_list.txt` contiene una lista di spettri.\n",
    "\n",
    "### Suggerimenti\n",
    "Per provare a dare un label ai vari spettri, definite una distanza tra due spettri.\n",
    "\n",
    "Potrebbe essere necessario fare una piccola interpolazione per paragonare gli spettri di riferimento a quelli misurati. "
   ]
  },
  {
   "cell_type": "markdown",
   "id": "6bfec0ff",
   "metadata": {},
   "source": [
    "# Buttiamo giù delle idee\n",
    "Tentiamo in questo notebook di capire il più possibile dai dati, comprendere come sono strutturati, come pulirli per prepararli ai fit."
   ]
  },
  {
   "cell_type": "code",
   "execution_count": 11,
   "id": "f3593582",
   "metadata": {},
   "outputs": [],
   "source": [
    "import pandas as pd\n",
    "import numpy as np\n",
    "from pathlib import Path\n",
    "#import seaborn as sns\n",
    "import matplotlib.pyplot as plt\n",
    "%config Completer.use_jedi = False\n",
    "%matplotlib inline\n"
   ]
  },
  {
   "cell_type": "markdown",
   "id": "754c52e5",
   "metadata": {},
   "source": [
    "## Importazione degli spettri del sample e quelli puri"
   ]
  },
  {
   "cell_type": "markdown",
   "id": "57fdfd73",
   "metadata": {},
   "source": [
    "In questa sezione importiamo i dati, sia quelli dei sample di materiale incognito che gli spettri relativi ai materiali puri."
   ]
  },
  {
   "cell_type": "code",
   "execution_count": 12,
   "id": "9a3fde2b",
   "metadata": {},
   "outputs": [],
   "source": [
    "#definisco i nomi delle colonne\n",
    "names = ['wn']+[f'r{k}c{i}' for k in range(1,12) for i in range(1,12)] #wn -> wave number  r -> row c -> column"
   ]
  },
  {
   "cell_type": "code",
   "execution_count": 13,
   "id": "c3c62a4a",
   "metadata": {},
   "outputs": [],
   "source": [
    "#quì importiamo i dati dei sempling in dataframes pandas, la colonna dei numeri d'onda è una unica per tutti\n",
    "data_S1 = pd.read_csv('../data/raw/S1_mapA_11x11.txt', delim_whitespace=True, names=names)\n",
    "data_S1bkg = pd.read_csv('../data/raw/S1_bkg_mapA_11x11.txt', delim_whitespace=True, names=names)\n",
    "data_S2 = pd.read_csv('../data/raw/S2_mapA_11x11.txt', delim_whitespace=True, names=names)\n",
    "data_S2bkg = pd.read_csv('../data/raw/S2_bkg_mapA_11x11.txt', delim_whitespace=True, names=names)"
   ]
  },
  {
   "cell_type": "code",
   "execution_count": 14,
   "id": "194503b5",
   "metadata": {
    "scrolled": true
   },
   "outputs": [],
   "source": [
    "# gli spettri Raman dei materiali puri hanno ognuno uno wn diverso, generiamo dunque un dataframe vuoto delle\n",
    "# dimensioni corrette, e poi aggiungiamo 2 colonne per spettro con wn e l'intensità (probabilmente c'è un \n",
    "# metodo migliore)\n",
    "\n",
    "# definisco i nomi dei vari materiali usando il file che li contiene tutti\n",
    "pure_material_names=[]\n",
    "with open('../data/raw/Database Raman/BANK_LIST.dat') as f:\n",
    "    pure_material_names=[i[1:len(i)-5] for i in f.readlines()]\n",
    "l=[]\n",
    "for i in range(len(pure_material_names)):\n",
    "    l.append(pd.read_csv('../data/raw/Database Raman/'+pure_material_names[i]+'.txt', delim_whitespace=True, names=[pure_material_names[i]+'_wl',pure_material_names[i]+'_I']).size)\n",
    "max_size=int(max(l)/2)"
   ]
  },
  {
   "cell_type": "code",
   "execution_count": 15,
   "id": "6d770afe",
   "metadata": {},
   "outputs": [
    {
     "ename": "FileNotFoundError",
     "evalue": "[Errno 2] No such file or directory: './Database Raman/Albite.txt'",
     "output_type": "error",
     "traceback": [
      "\u001b[0;31m---------------------------------------------------------------------------\u001b[0m",
      "\u001b[0;31mFileNotFoundError\u001b[0m                         Traceback (most recent call last)",
      "\u001b[0;32m<ipython-input-15-20b3b1430218>\u001b[0m in \u001b[0;36m<module>\u001b[0;34m\u001b[0m\n\u001b[1;32m      3\u001b[0m \u001b[0;31m# importiamo i dati: nome_I (intensità) e nome_wn\u001b[0m\u001b[0;34m\u001b[0m\u001b[0;34m\u001b[0m\u001b[0;34m\u001b[0m\u001b[0m\n\u001b[1;32m      4\u001b[0m \u001b[0;32mfor\u001b[0m \u001b[0mi\u001b[0m \u001b[0;32min\u001b[0m \u001b[0mrange\u001b[0m\u001b[0;34m(\u001b[0m\u001b[0mlen\u001b[0m\u001b[0;34m(\u001b[0m\u001b[0mpure_material_names\u001b[0m\u001b[0;34m)\u001b[0m\u001b[0;34m)\u001b[0m\u001b[0;34m:\u001b[0m\u001b[0;34m\u001b[0m\u001b[0;34m\u001b[0m\u001b[0m\n\u001b[0;32m----> 5\u001b[0;31m     \u001b[0mpure_materials\u001b[0m\u001b[0;34m=\u001b[0m\u001b[0mpure_materials\u001b[0m\u001b[0;34m.\u001b[0m\u001b[0mjoin\u001b[0m\u001b[0;34m(\u001b[0m\u001b[0mpd\u001b[0m\u001b[0;34m.\u001b[0m\u001b[0mread_csv\u001b[0m\u001b[0;34m(\u001b[0m\u001b[0;34m'./Database Raman/'\u001b[0m\u001b[0;34m+\u001b[0m\u001b[0mpure_material_names\u001b[0m\u001b[0;34m[\u001b[0m\u001b[0mi\u001b[0m\u001b[0;34m]\u001b[0m\u001b[0;34m+\u001b[0m\u001b[0;34m'.txt'\u001b[0m\u001b[0;34m,\u001b[0m \u001b[0mdelim_whitespace\u001b[0m\u001b[0;34m=\u001b[0m\u001b[0;32mTrue\u001b[0m\u001b[0;34m,\u001b[0m \u001b[0mnames\u001b[0m\u001b[0;34m=\u001b[0m\u001b[0;34m[\u001b[0m\u001b[0mpure_material_names\u001b[0m\u001b[0;34m[\u001b[0m\u001b[0mi\u001b[0m\u001b[0;34m]\u001b[0m\u001b[0;34m+\u001b[0m\u001b[0;34m'_wn'\u001b[0m\u001b[0;34m,\u001b[0m\u001b[0mpure_material_names\u001b[0m\u001b[0;34m[\u001b[0m\u001b[0mi\u001b[0m\u001b[0;34m]\u001b[0m\u001b[0;34m+\u001b[0m\u001b[0;34m'_I'\u001b[0m\u001b[0;34m]\u001b[0m\u001b[0;34m)\u001b[0m\u001b[0;34m)\u001b[0m\u001b[0;34m\u001b[0m\u001b[0;34m\u001b[0m\u001b[0m\n\u001b[0m\u001b[1;32m      6\u001b[0m \u001b[0;34m\u001b[0m\u001b[0m\n\u001b[1;32m      7\u001b[0m \u001b[0mpure_materials\u001b[0m\u001b[0;34m.\u001b[0m\u001b[0mdrop\u001b[0m\u001b[0;34m(\u001b[0m\u001b[0;34m'empty'\u001b[0m\u001b[0;34m,\u001b[0m \u001b[0maxis\u001b[0m \u001b[0;34m=\u001b[0m \u001b[0;36m1\u001b[0m\u001b[0;34m,\u001b[0m\u001b[0minplace\u001b[0m\u001b[0;34m=\u001b[0m\u001b[0;32mTrue\u001b[0m\u001b[0;34m)\u001b[0m\u001b[0;34m\u001b[0m\u001b[0;34m\u001b[0m\u001b[0m\n",
      "\u001b[0;32m~/anaconda3/envs/datascience/lib/python3.8/site-packages/pandas/io/parsers.py\u001b[0m in \u001b[0;36mread_csv\u001b[0;34m(filepath_or_buffer, sep, delimiter, header, names, index_col, usecols, squeeze, prefix, mangle_dupe_cols, dtype, engine, converters, true_values, false_values, skipinitialspace, skiprows, skipfooter, nrows, na_values, keep_default_na, na_filter, verbose, skip_blank_lines, parse_dates, infer_datetime_format, keep_date_col, date_parser, dayfirst, cache_dates, iterator, chunksize, compression, thousands, decimal, lineterminator, quotechar, quoting, doublequote, escapechar, comment, encoding, dialect, error_bad_lines, warn_bad_lines, delim_whitespace, low_memory, memory_map, float_precision, storage_options)\u001b[0m\n\u001b[1;32m    608\u001b[0m     \u001b[0mkwds\u001b[0m\u001b[0;34m.\u001b[0m\u001b[0mupdate\u001b[0m\u001b[0;34m(\u001b[0m\u001b[0mkwds_defaults\u001b[0m\u001b[0;34m)\u001b[0m\u001b[0;34m\u001b[0m\u001b[0;34m\u001b[0m\u001b[0m\n\u001b[1;32m    609\u001b[0m \u001b[0;34m\u001b[0m\u001b[0m\n\u001b[0;32m--> 610\u001b[0;31m     \u001b[0;32mreturn\u001b[0m \u001b[0m_read\u001b[0m\u001b[0;34m(\u001b[0m\u001b[0mfilepath_or_buffer\u001b[0m\u001b[0;34m,\u001b[0m \u001b[0mkwds\u001b[0m\u001b[0;34m)\u001b[0m\u001b[0;34m\u001b[0m\u001b[0;34m\u001b[0m\u001b[0m\n\u001b[0m\u001b[1;32m    611\u001b[0m \u001b[0;34m\u001b[0m\u001b[0m\n\u001b[1;32m    612\u001b[0m \u001b[0;34m\u001b[0m\u001b[0m\n",
      "\u001b[0;32m~/anaconda3/envs/datascience/lib/python3.8/site-packages/pandas/io/parsers.py\u001b[0m in \u001b[0;36m_read\u001b[0;34m(filepath_or_buffer, kwds)\u001b[0m\n\u001b[1;32m    460\u001b[0m \u001b[0;34m\u001b[0m\u001b[0m\n\u001b[1;32m    461\u001b[0m     \u001b[0;31m# Create the parser.\u001b[0m\u001b[0;34m\u001b[0m\u001b[0;34m\u001b[0m\u001b[0;34m\u001b[0m\u001b[0m\n\u001b[0;32m--> 462\u001b[0;31m     \u001b[0mparser\u001b[0m \u001b[0;34m=\u001b[0m \u001b[0mTextFileReader\u001b[0m\u001b[0;34m(\u001b[0m\u001b[0mfilepath_or_buffer\u001b[0m\u001b[0;34m,\u001b[0m \u001b[0;34m**\u001b[0m\u001b[0mkwds\u001b[0m\u001b[0;34m)\u001b[0m\u001b[0;34m\u001b[0m\u001b[0;34m\u001b[0m\u001b[0m\n\u001b[0m\u001b[1;32m    463\u001b[0m \u001b[0;34m\u001b[0m\u001b[0m\n\u001b[1;32m    464\u001b[0m     \u001b[0;32mif\u001b[0m \u001b[0mchunksize\u001b[0m \u001b[0;32mor\u001b[0m \u001b[0miterator\u001b[0m\u001b[0;34m:\u001b[0m\u001b[0;34m\u001b[0m\u001b[0;34m\u001b[0m\u001b[0m\n",
      "\u001b[0;32m~/anaconda3/envs/datascience/lib/python3.8/site-packages/pandas/io/parsers.py\u001b[0m in \u001b[0;36m__init__\u001b[0;34m(self, f, engine, **kwds)\u001b[0m\n\u001b[1;32m    817\u001b[0m             \u001b[0mself\u001b[0m\u001b[0;34m.\u001b[0m\u001b[0moptions\u001b[0m\u001b[0;34m[\u001b[0m\u001b[0;34m\"has_index_names\"\u001b[0m\u001b[0;34m]\u001b[0m \u001b[0;34m=\u001b[0m \u001b[0mkwds\u001b[0m\u001b[0;34m[\u001b[0m\u001b[0;34m\"has_index_names\"\u001b[0m\u001b[0;34m]\u001b[0m\u001b[0;34m\u001b[0m\u001b[0;34m\u001b[0m\u001b[0m\n\u001b[1;32m    818\u001b[0m \u001b[0;34m\u001b[0m\u001b[0m\n\u001b[0;32m--> 819\u001b[0;31m         \u001b[0mself\u001b[0m\u001b[0;34m.\u001b[0m\u001b[0m_engine\u001b[0m \u001b[0;34m=\u001b[0m \u001b[0mself\u001b[0m\u001b[0;34m.\u001b[0m\u001b[0m_make_engine\u001b[0m\u001b[0;34m(\u001b[0m\u001b[0mself\u001b[0m\u001b[0;34m.\u001b[0m\u001b[0mengine\u001b[0m\u001b[0;34m)\u001b[0m\u001b[0;34m\u001b[0m\u001b[0;34m\u001b[0m\u001b[0m\n\u001b[0m\u001b[1;32m    820\u001b[0m \u001b[0;34m\u001b[0m\u001b[0m\n\u001b[1;32m    821\u001b[0m     \u001b[0;32mdef\u001b[0m \u001b[0mclose\u001b[0m\u001b[0;34m(\u001b[0m\u001b[0mself\u001b[0m\u001b[0;34m)\u001b[0m\u001b[0;34m:\u001b[0m\u001b[0;34m\u001b[0m\u001b[0;34m\u001b[0m\u001b[0m\n",
      "\u001b[0;32m~/anaconda3/envs/datascience/lib/python3.8/site-packages/pandas/io/parsers.py\u001b[0m in \u001b[0;36m_make_engine\u001b[0;34m(self, engine)\u001b[0m\n\u001b[1;32m   1048\u001b[0m             )\n\u001b[1;32m   1049\u001b[0m         \u001b[0;31m# error: Too many arguments for \"ParserBase\"\u001b[0m\u001b[0;34m\u001b[0m\u001b[0;34m\u001b[0m\u001b[0;34m\u001b[0m\u001b[0m\n\u001b[0;32m-> 1050\u001b[0;31m         \u001b[0;32mreturn\u001b[0m \u001b[0mmapping\u001b[0m\u001b[0;34m[\u001b[0m\u001b[0mengine\u001b[0m\u001b[0;34m]\u001b[0m\u001b[0;34m(\u001b[0m\u001b[0mself\u001b[0m\u001b[0;34m.\u001b[0m\u001b[0mf\u001b[0m\u001b[0;34m,\u001b[0m \u001b[0;34m**\u001b[0m\u001b[0mself\u001b[0m\u001b[0;34m.\u001b[0m\u001b[0moptions\u001b[0m\u001b[0;34m)\u001b[0m  \u001b[0;31m# type: ignore[call-arg]\u001b[0m\u001b[0;34m\u001b[0m\u001b[0;34m\u001b[0m\u001b[0m\n\u001b[0m\u001b[1;32m   1051\u001b[0m \u001b[0;34m\u001b[0m\u001b[0m\n\u001b[1;32m   1052\u001b[0m     \u001b[0;32mdef\u001b[0m \u001b[0m_failover_to_python\u001b[0m\u001b[0;34m(\u001b[0m\u001b[0mself\u001b[0m\u001b[0;34m)\u001b[0m\u001b[0;34m:\u001b[0m\u001b[0;34m\u001b[0m\u001b[0;34m\u001b[0m\u001b[0m\n",
      "\u001b[0;32m~/anaconda3/envs/datascience/lib/python3.8/site-packages/pandas/io/parsers.py\u001b[0m in \u001b[0;36m__init__\u001b[0;34m(self, src, **kwds)\u001b[0m\n\u001b[1;32m   1865\u001b[0m \u001b[0;34m\u001b[0m\u001b[0m\n\u001b[1;32m   1866\u001b[0m         \u001b[0;31m# open handles\u001b[0m\u001b[0;34m\u001b[0m\u001b[0;34m\u001b[0m\u001b[0;34m\u001b[0m\u001b[0m\n\u001b[0;32m-> 1867\u001b[0;31m         \u001b[0mself\u001b[0m\u001b[0;34m.\u001b[0m\u001b[0m_open_handles\u001b[0m\u001b[0;34m(\u001b[0m\u001b[0msrc\u001b[0m\u001b[0;34m,\u001b[0m \u001b[0mkwds\u001b[0m\u001b[0;34m)\u001b[0m\u001b[0;34m\u001b[0m\u001b[0;34m\u001b[0m\u001b[0m\n\u001b[0m\u001b[1;32m   1868\u001b[0m         \u001b[0;32massert\u001b[0m \u001b[0mself\u001b[0m\u001b[0;34m.\u001b[0m\u001b[0mhandles\u001b[0m \u001b[0;32mis\u001b[0m \u001b[0;32mnot\u001b[0m \u001b[0;32mNone\u001b[0m\u001b[0;34m\u001b[0m\u001b[0;34m\u001b[0m\u001b[0m\n\u001b[1;32m   1869\u001b[0m         \u001b[0;32mfor\u001b[0m \u001b[0mkey\u001b[0m \u001b[0;32min\u001b[0m \u001b[0;34m(\u001b[0m\u001b[0;34m\"storage_options\"\u001b[0m\u001b[0;34m,\u001b[0m \u001b[0;34m\"encoding\"\u001b[0m\u001b[0;34m,\u001b[0m \u001b[0;34m\"memory_map\"\u001b[0m\u001b[0;34m,\u001b[0m \u001b[0;34m\"compression\"\u001b[0m\u001b[0;34m)\u001b[0m\u001b[0;34m:\u001b[0m\u001b[0;34m\u001b[0m\u001b[0;34m\u001b[0m\u001b[0m\n",
      "\u001b[0;32m~/anaconda3/envs/datascience/lib/python3.8/site-packages/pandas/io/parsers.py\u001b[0m in \u001b[0;36m_open_handles\u001b[0;34m(self, src, kwds)\u001b[0m\n\u001b[1;32m   1360\u001b[0m         \u001b[0mLet\u001b[0m \u001b[0mthe\u001b[0m \u001b[0mreaders\u001b[0m \u001b[0mopen\u001b[0m \u001b[0mIOHanldes\u001b[0m \u001b[0mafter\u001b[0m \u001b[0mthey\u001b[0m \u001b[0mare\u001b[0m \u001b[0mdone\u001b[0m \u001b[0;32mwith\u001b[0m \u001b[0mtheir\u001b[0m \u001b[0mpotential\u001b[0m \u001b[0mraises\u001b[0m\u001b[0;34m.\u001b[0m\u001b[0;34m\u001b[0m\u001b[0;34m\u001b[0m\u001b[0m\n\u001b[1;32m   1361\u001b[0m         \"\"\"\n\u001b[0;32m-> 1362\u001b[0;31m         self.handles = get_handle(\n\u001b[0m\u001b[1;32m   1363\u001b[0m             \u001b[0msrc\u001b[0m\u001b[0;34m,\u001b[0m\u001b[0;34m\u001b[0m\u001b[0;34m\u001b[0m\u001b[0m\n\u001b[1;32m   1364\u001b[0m             \u001b[0;34m\"r\"\u001b[0m\u001b[0;34m,\u001b[0m\u001b[0;34m\u001b[0m\u001b[0;34m\u001b[0m\u001b[0m\n",
      "\u001b[0;32m~/anaconda3/envs/datascience/lib/python3.8/site-packages/pandas/io/common.py\u001b[0m in \u001b[0;36mget_handle\u001b[0;34m(path_or_buf, mode, encoding, compression, memory_map, is_text, errors, storage_options)\u001b[0m\n\u001b[1;32m    640\u001b[0m                 \u001b[0merrors\u001b[0m \u001b[0;34m=\u001b[0m \u001b[0;34m\"replace\"\u001b[0m\u001b[0;34m\u001b[0m\u001b[0;34m\u001b[0m\u001b[0m\n\u001b[1;32m    641\u001b[0m             \u001b[0;31m# Encoding\u001b[0m\u001b[0;34m\u001b[0m\u001b[0;34m\u001b[0m\u001b[0;34m\u001b[0m\u001b[0m\n\u001b[0;32m--> 642\u001b[0;31m             handle = open(\n\u001b[0m\u001b[1;32m    643\u001b[0m                 \u001b[0mhandle\u001b[0m\u001b[0;34m,\u001b[0m\u001b[0;34m\u001b[0m\u001b[0;34m\u001b[0m\u001b[0m\n\u001b[1;32m    644\u001b[0m                 \u001b[0mioargs\u001b[0m\u001b[0;34m.\u001b[0m\u001b[0mmode\u001b[0m\u001b[0;34m,\u001b[0m\u001b[0;34m\u001b[0m\u001b[0;34m\u001b[0m\u001b[0m\n",
      "\u001b[0;31mFileNotFoundError\u001b[0m: [Errno 2] No such file or directory: './Database Raman/Albite.txt'"
     ]
    }
   ],
   "source": [
    "# genero un dataframe vuoto per poter usare il metodo join\n",
    "pure_materials = pd.DataFrame(np.zeros(max_size),columns=['empty'])\n",
    "# importiamo i dati: nome_I (intensità) e nome_wn\n",
    "for i in range(len(pure_material_names)):\n",
    "    pure_materials=pure_materials.join(pd.read_csv('./Database Raman/'+pure_material_names[i]+'.txt', delim_whitespace=True, names=[pure_material_names[i]+'_wn',pure_material_names[i]+'_I']))\n",
    "    \n",
    "pure_materials.drop('empty', axis = 1,inplace=True)"
   ]
  },
  {
   "cell_type": "markdown",
   "id": "cc0df1fb",
   "metadata": {},
   "source": [
    "## Vediamo rapidamente cosa contengono gli spettri di sempling"
   ]
  },
  {
   "cell_type": "markdown",
   "id": "fad91482",
   "metadata": {},
   "source": [
    "Qui sotto sono riportati alcuni spettri, con il background, per far vedere come si comportano. "
   ]
  },
  {
   "cell_type": "code",
   "execution_count": null,
   "id": "4da1d4c6",
   "metadata": {
    "scrolled": false
   },
   "outputs": [],
   "source": [
    "def raman_plot():\n",
    "    plt.figure(figsize=(16,6))\n",
    "    plt.xlabel(\"wave number [1/cm]\")\n",
    "    plt.ylabel(\"Intensity\")\n",
    "    \n",
    "raman_plot()\n",
    "plt.plot(data_S1.wn,data_S1.r1c1)\n",
    "plt.plot(data_S1.wn,data_S1.r1c2)\n",
    "plt.plot(data_S1.wn,data_S1.r1c3)\n",
    "plt.plot(data_S1.wn,data_S1.r1c4)\n",
    "plt.plot(data_S1.wn,data_S1.r1c5)"
   ]
  },
  {
   "cell_type": "markdown",
   "id": "6e173736",
   "metadata": {},
   "source": [
    "E quì li plotto tutti in sieme"
   ]
  },
  {
   "cell_type": "code",
   "execution_count": null,
   "id": "cccae606",
   "metadata": {},
   "outputs": [],
   "source": [
    "raman_plot()\n",
    "for temp in names[1:]:\n",
    "    plt.plot(data_S1.wn,data_S1[temp])"
   ]
  },
  {
   "cell_type": "markdown",
   "id": "0edb6c4e",
   "metadata": {
    "slideshow": {
     "slide_type": "fragment"
    }
   },
   "source": [
    "Gli stessi spettri a background rimosso."
   ]
  },
  {
   "cell_type": "code",
   "execution_count": null,
   "id": "bfb3173d",
   "metadata": {},
   "outputs": [],
   "source": [
    "raman_plot()\n",
    "plt.plot(data_S1bkg.wn,data_S1bkg.r1c1)\n",
    "plt.plot(data_S1bkg.wn,data_S1bkg.r1c2)\n",
    "plt.plot(data_S1bkg.wn,data_S1bkg.r1c3)\n",
    "plt.plot(data_S1bkg.wn,data_S1bkg.r1c4)\n",
    "plt.plot(data_S1bkg.wn,data_S1bkg.r1c5)"
   ]
  },
  {
   "cell_type": "markdown",
   "id": "fdf9913d",
   "metadata": {},
   "source": [
    "E quì li plotto tutti in sieme, notiamo che quelli più brutti senza beckground corrispondono a quelli più brutti anche con. Alcuni spettri non hanno sicuramente significato fisico, dovremmo vederli come trattarli e identificarli."
   ]
  },
  {
   "cell_type": "code",
   "execution_count": null,
   "id": "61432135",
   "metadata": {
    "scrolled": false
   },
   "outputs": [],
   "source": [
    "raman_plot()\n",
    "for temp in names[1:]:\n",
    "    plt.plot(data_S1bkg.wn,data_S1bkg[temp])"
   ]
  },
  {
   "cell_type": "markdown",
   "id": "b6decd89",
   "metadata": {},
   "source": [
    "Vediamo la differenza tra spettro con beckground e senza (I file con e senza background hanno frequenze diverse)"
   ]
  },
  {
   "cell_type": "code",
   "execution_count": null,
   "id": "8c026fcd",
   "metadata": {},
   "outputs": [],
   "source": [
    "raman_plot()\n",
    "plt.plot(data_S1.wn,data_S1.r1c2)\n",
    "plt.plot(data_S1bkg.wn,data_S1bkg.r1c2)"
   ]
  },
  {
   "cell_type": "markdown",
   "id": "16138226",
   "metadata": {},
   "source": [
    "**Cerchiamo ora di capirne un po' di più buttando giù delle idee o ipotesi: come diminuire il rumore, come eliminare eventuali offsets, come trattare spettri che apparentemente non hanno significato ecc...**"
   ]
  },
  {
   "cell_type": "markdown",
   "id": "5c8b80fb",
   "metadata": {},
   "source": [
    "## Cerchiamo di capire dagli spettri puri cosa ci aspettiamo da uno spettro Raman"
   ]
  },
  {
   "cell_type": "markdown",
   "id": "f6351601",
   "metadata": {},
   "source": [
    "Vediamo uno spettro tipico del Database di riferimento. Notare come sia meno rumoroso, nonché la scala in x molto più ridotta."
   ]
  },
  {
   "cell_type": "code",
   "execution_count": null,
   "id": "9273a214",
   "metadata": {},
   "outputs": [],
   "source": [
    "raman_plot()\n",
    "plt.plot(pure_materials.Albite_wn,pure_materials.Albite_I)"
   ]
  },
  {
   "cell_type": "markdown",
   "id": "83203b77",
   "metadata": {},
   "source": [
    "Lo spettro è veramente bello, vediamoli tutti:"
   ]
  },
  {
   "cell_type": "code",
   "execution_count": null,
   "id": "3874e3c8",
   "metadata": {},
   "outputs": [],
   "source": [
    "plt.figure(figsize=(15,8))\n",
    "for i in range(len(pure_material_names)):\n",
    "    plt.plot(pure_materials[pure_material_names[i]+'_wn'],pure_materials[pure_material_names[i]+'_I'])"
   ]
  },
  {
   "cell_type": "markdown",
   "id": "634f663d",
   "metadata": {},
   "source": [
    "Da questi spettri, molto meno rumorosi di quelli del sample, capiamo diverse cose:\n",
    "1. **Per numeri d'onda superiori a 1250 $cm^{-1}$ tutti gli spettri Raman non presentano picchi, l'intensità a piccole lunghezze d'onda è nulla!**\n",
    "2. **Gli spettri Raman, relativamente alle altezze dei picchi, non presentano un offset rilevante**\n",
    "3. **Le FWHM dei picchi sono, certe volte, importanti: fino a 100 $cm^{-1}$.**\n",
    "4. **Lo spettro fino a circa (dopo troviamo meglio questo punto) 1250 $cm^{-1}$ è densamente popolato.**"
   ]
  },
  {
   "cell_type": "markdown",
   "id": "5802a6ff",
   "metadata": {},
   "source": [
    "## Normalizzo li spettri puri"
   ]
  },
  {
   "cell_type": "code",
   "execution_count": null,
   "id": "ea4df35f",
   "metadata": {},
   "outputs": [],
   "source": [
    "for i in pure_material_names:\n",
    "    pure_materials[i+'_I']=pure_materials[i+'_I']/np.trapz(abs(pure_materials[i+'_I'].dropna()), x=pure_materials[i+'_wn'].dropna())"
   ]
  },
  {
   "cell_type": "markdown",
   "id": "6b284f51",
   "metadata": {},
   "source": [
    "## Tentativo di rimuovere un po' di rumore dagli spettri binnando i numeri d'onda (credo fallito)"
   ]
  },
  {
   "cell_type": "markdown",
   "id": "ddb167bb",
   "metadata": {},
   "source": [
    "Prendo uno spettro e provo a toglierli il rumore (almeno un pochino) raggruppando il sempling. Devo stare attento a non esagerare altrimenti abbasso i picchi. Provo con un campine a caso."
   ]
  },
  {
   "cell_type": "code",
   "execution_count": 16,
   "id": "44f4aff1",
   "metadata": {},
   "outputs": [
    {
     "ename": "NameError",
     "evalue": "name 'raman_plot' is not defined",
     "output_type": "error",
     "traceback": [
      "\u001b[0;31m---------------------------------------------------------------------------\u001b[0m",
      "\u001b[0;31mNameError\u001b[0m                                 Traceback (most recent call last)",
      "\u001b[0;32m<ipython-input-16-0837b31747e4>\u001b[0m in \u001b[0;36m<module>\u001b[0;34m\u001b[0m\n\u001b[1;32m     10\u001b[0m \u001b[0;34m\u001b[0m\u001b[0m\n\u001b[1;32m     11\u001b[0m \u001b[0;34m\u001b[0m\u001b[0m\n\u001b[0;32m---> 12\u001b[0;31m \u001b[0mraman_plot\u001b[0m\u001b[0;34m(\u001b[0m\u001b[0;34m)\u001b[0m\u001b[0;34m\u001b[0m\u001b[0;34m\u001b[0m\u001b[0m\n\u001b[0m\u001b[1;32m     13\u001b[0m \u001b[0mplt\u001b[0m\u001b[0;34m.\u001b[0m\u001b[0mplot\u001b[0m\u001b[0;34m(\u001b[0m\u001b[0mdata_S1bkg\u001b[0m\u001b[0;34m.\u001b[0m\u001b[0mwn\u001b[0m\u001b[0;34m,\u001b[0m\u001b[0mdata_S1bkg\u001b[0m\u001b[0;34m[\u001b[0m\u001b[0msample\u001b[0m\u001b[0;34m]\u001b[0m\u001b[0;34m)\u001b[0m\u001b[0;34m\u001b[0m\u001b[0;34m\u001b[0m\u001b[0m\n\u001b[1;32m     14\u001b[0m \u001b[0mplt\u001b[0m\u001b[0;34m.\u001b[0m\u001b[0mplot\u001b[0m\u001b[0;34m(\u001b[0m\u001b[0mx\u001b[0m\u001b[0;34m,\u001b[0m\u001b[0my\u001b[0m\u001b[0;34m)\u001b[0m\u001b[0;34m\u001b[0m\u001b[0;34m\u001b[0m\u001b[0m\n",
      "\u001b[0;31mNameError\u001b[0m: name 'raman_plot' is not defined"
     ]
    }
   ],
   "source": [
    "sample='r7c7' #scelgo su cosa guardare sta roba\n",
    "N=3 #numero di raggruppamenti\n",
    "x=[]\n",
    "y=[]\n",
    "for i in range(int(len(data_S1bkg[sample])/N)):\n",
    "    y.append(data_S1bkg[sample][N*i:N*i+N].mean())   \n",
    "for i in range(int(len(data_S1bkg.wn)/N)):\n",
    "    x.append(data_S1bkg.wn[N*i:N*i+N].mean())   \n",
    "\n",
    "\n",
    "\n",
    "raman_plot()\n",
    "plt.plot(data_S1bkg.wn,data_S1bkg[sample])\n",
    "plt.plot(x,y)\n"
   ]
  },
  {
   "cell_type": "markdown",
   "id": "e7743ce3",
   "metadata": {},
   "source": [
    "Risultato pessimo, rumore poco attenuato (stà a frequenze troppo basse) mentre i picchi sono modificati sensibilmente.\n",
    "**Al limite potrebbe essere utile se lo facciamo con N=2 o 3, per ridurre un po il numero di dati. In questo caso la differenza non è importante.**"
   ]
  },
  {
   "cell_type": "markdown",
   "id": "e64a4b1d",
   "metadata": {},
   "source": [
    "## Tentativo di sottrarre l'offset "
   ]
  },
  {
   "cell_type": "markdown",
   "id": "14e2bc42",
   "metadata": {},
   "source": [
    "Prima faccio un fit alla parte destra del grafico...."
   ]
  },
  {
   "cell_type": "code",
   "execution_count": null,
   "id": "4adf5658",
   "metadata": {},
   "outputs": [],
   "source": [
    "sample='r4c7' #il sample su cui faccio gli esempi\n",
    "data_S1bkg[sample].plot()\n",
    "offset=data_S1bkg[sample][1300::].mean()\n",
    "sigma=data_S1bkg[sample][1300::].std() #calcolo la std che mi serve dopo\n",
    "\n",
    "plt.plot([1500,2700],[offset,offset])"
   ]
  },
  {
   "cell_type": "markdown",
   "id": "ecbfccf3",
   "metadata": {},
   "source": [
    "## Dato che rimuovere l'offset sebra un'ottima idea lo facio a tutti"
   ]
  },
  {
   "cell_type": "code",
   "execution_count": null,
   "id": "d2f6d6b8",
   "metadata": {},
   "outputs": [],
   "source": [
    "wn_soglia=1300\n",
    "for temp in names[1::]:\n",
    "    offset=data_S1bkg[temp][wn_soglia::].mean()\n",
    "    data_S1bkg[temp]=data_S1bkg[temp]-offset"
   ]
  },
  {
   "cell_type": "markdown",
   "id": "e2782d23",
   "metadata": {},
   "source": [
    "## Tentativo di mettere una soglia al rumore"
   ]
  },
  {
   "cell_type": "markdown",
   "id": "bca55070",
   "metadata": {},
   "source": [
    "Una volta trovato l'offset metto a 0 e cancello il rumore sotto una soglia. Potrebbe essere interessante dare questa soglia in funzione della varianza della coda dello spettro."
   ]
  },
  {
   "cell_type": "code",
   "execution_count": null,
   "id": "cad3c594",
   "metadata": {},
   "outputs": [],
   "source": [
    "\n",
    "bound=3*sigma #fisso il bound del rumore a 4 volte il sigma della coda\n",
    "y=data_S1bkg[sample].copy()\n",
    "for i in enumerate(y):\n",
    "    if i[1]<bound:\n",
    "        y[i[0]]=0\n",
    "x=data_S1bkg.wn        \n",
    "raman_plot()\n",
    "plt.plot(data_S1bkg.wn,data_S1bkg[sample])    \n",
    "plt.plot(x,y)        "
   ]
  },
  {
   "cell_type": "markdown",
   "id": "0dd93861",
   "metadata": {},
   "source": [
    "**Se volessi attuare questa tecnica a tutti gli spettri dovrei runnare la prossima cella**"
   ]
  },
  {
   "cell_type": "code",
   "execution_count": null,
   "id": "89075cb1",
   "metadata": {},
   "outputs": [],
   "source": [
    "%%HTML\n",
    "vwn_soglia=1300\n",
    "for temp in names[1::]:\n",
    "    for i in enumerate(data_S1bkg[temp]):\n",
    "        if i[1]<bound:\n",
    "            data_S1bkg[temp][i[0]]=0"
   ]
  },
  {
   "cell_type": "markdown",
   "id": "d0caea7f",
   "metadata": {},
   "source": [
    "## Poi togliamo la coda che non ci serve più"
   ]
  },
  {
   "cell_type": "markdown",
   "id": "bfad2f2c",
   "metadata": {},
   "source": [
    "Lo faremo direttamente a tutti gli spettri Raman"
   ]
  },
  {
   "cell_type": "markdown",
   "id": "b170179e",
   "metadata": {},
   "source": [
    "# Tentativo di identificare gli spettri Raman senza significato\n",
    "Provo a utilizzare la varianza della coda degli spettri come bound,"
   ]
  },
  {
   "cell_type": "code",
   "execution_count": 17,
   "id": "7b6d177c",
   "metadata": {},
   "outputs": [],
   "source": [
    "sigma=[data_S1bkg[sample][1300::].std() for sample in names[1::]]\n",
    "limit=10\n",
    "#copio il dataframe dei sample esistente in altri due\n",
    "bad_names=[]\n",
    "good_names=[]\n",
    "for i in enumerate(names[1::]):\n",
    "    if sigma[i[0]]<limit:\n",
    "        good_names.append(i[1])\n",
    "    else:\n",
    "        bad_names.append(i[1])"
   ]
  },
  {
   "cell_type": "code",
   "execution_count": 18,
   "id": "2d72f0be",
   "metadata": {},
   "outputs": [
    {
     "ename": "NameError",
     "evalue": "name 'raman_plot' is not defined",
     "output_type": "error",
     "traceback": [
      "\u001b[0;31m---------------------------------------------------------------------------\u001b[0m",
      "\u001b[0;31mNameError\u001b[0m                                 Traceback (most recent call last)",
      "\u001b[0;32m<ipython-input-18-d65466b89e4f>\u001b[0m in \u001b[0;36m<module>\u001b[0;34m\u001b[0m\n\u001b[0;32m----> 1\u001b[0;31m \u001b[0mraman_plot\u001b[0m\u001b[0;34m(\u001b[0m\u001b[0;34m)\u001b[0m\u001b[0;34m\u001b[0m\u001b[0;34m\u001b[0m\u001b[0m\n\u001b[0m\u001b[1;32m      2\u001b[0m \u001b[0;32mfor\u001b[0m \u001b[0mtemp\u001b[0m \u001b[0;32min\u001b[0m \u001b[0mbad_names\u001b[0m\u001b[0;34m[\u001b[0m\u001b[0;36m1\u001b[0m\u001b[0;34m:\u001b[0m\u001b[0;34m]\u001b[0m\u001b[0;34m:\u001b[0m\u001b[0;34m\u001b[0m\u001b[0;34m\u001b[0m\u001b[0m\n\u001b[1;32m      3\u001b[0m     \u001b[0mplt\u001b[0m\u001b[0;34m.\u001b[0m\u001b[0mplot\u001b[0m\u001b[0;34m(\u001b[0m\u001b[0mdata_S1bkg\u001b[0m\u001b[0;34m.\u001b[0m\u001b[0mwn\u001b[0m\u001b[0;34m,\u001b[0m\u001b[0mdata_S1bkg\u001b[0m\u001b[0;34m[\u001b[0m\u001b[0mtemp\u001b[0m\u001b[0;34m]\u001b[0m\u001b[0;34m)\u001b[0m\u001b[0;34m\u001b[0m\u001b[0;34m\u001b[0m\u001b[0m\n",
      "\u001b[0;31mNameError\u001b[0m: name 'raman_plot' is not defined"
     ]
    }
   ],
   "source": [
    "raman_plot()\n",
    "for temp in bad_names[1:]:\n",
    "    plt.plot(data_S1bkg.wn,data_S1bkg[temp])"
   ]
  },
  {
   "cell_type": "markdown",
   "id": "919cb5e7",
   "metadata": {},
   "source": [
    "## Trattiamo la normalizzazione"
   ]
  },
  {
   "cell_type": "markdown",
   "id": "482234c1",
   "metadata": {},
   "source": [
    "**Usando l'integrazione numerica, notiamo come le curve non siano normalizzate.**\n",
    "è sicuramente tutto da normalizzare."
   ]
  },
  {
   "cell_type": "code",
   "execution_count": null,
   "id": "686dc6f6",
   "metadata": {},
   "outputs": [],
   "source": [
    "for i in names[1::]:\n",
    "    data_S1bkg[i]=data_S1bkg[i]/np.trapz(abs(data_S1bkg[i]), x=data_S1bkg.wn)"
   ]
  },
  {
   "cell_type": "markdown",
   "id": "2fc0cb0f",
   "metadata": {},
   "source": [
    "## Alla fine della consegna tubiana scrive di definire una distanza tra gli spettri per potere classificarli\n",
    "**Dato che siamo interessati a trovare i materiali principali che costituiscono uno spettro potremmo pesare di più le intensità più alte???**"
   ]
  }
 ],
 "metadata": {
  "kernelspec": {
   "display_name": "Python 3",
   "language": "python",
   "name": "python3"
  },
  "language_info": {
   "codemirror_mode": {
    "name": "ipython",
    "version": 3
   },
   "file_extension": ".py",
   "mimetype": "text/x-python",
   "name": "python",
   "nbconvert_exporter": "python",
   "pygments_lexer": "ipython3",
   "version": "3.8.8"
  },
  "latex_envs": {
   "LaTeX_envs_menu_present": true,
   "autoclose": false,
   "autocomplete": true,
   "bibliofile": "biblio.bib",
   "cite_by": "apalike",
   "current_citInitial": 1,
   "eqLabelWithNumbers": true,
   "eqNumInitial": 1,
   "hotkeys": {
    "equation": "Ctrl-E",
    "itemize": "Ctrl-I"
   },
   "labels_anchors": false,
   "latex_user_defs": false,
   "report_style_numbering": false,
   "user_envs_cfg": false
  },
  "toc": {
   "base_numbering": 1,
   "nav_menu": {},
   "number_sections": true,
   "sideBar": true,
   "skip_h1_title": false,
   "title_cell": "Table of Contents",
   "title_sidebar": "Contents",
   "toc_cell": false,
   "toc_position": {},
   "toc_section_display": true,
   "toc_window_display": false
  },
  "varInspector": {
   "cols": {
    "lenName": 16,
    "lenType": 16,
    "lenVar": 40
   },
   "kernels_config": {
    "python": {
     "delete_cmd_postfix": "",
     "delete_cmd_prefix": "del ",
     "library": "var_list.py",
     "varRefreshCmd": "print(var_dic_list())"
    },
    "r": {
     "delete_cmd_postfix": ") ",
     "delete_cmd_prefix": "rm(",
     "library": "var_list.r",
     "varRefreshCmd": "cat(var_dic_list()) "
    }
   },
   "position": {
    "height": "236.85px",
    "left": "996px",
    "right": "20px",
    "top": "120px",
    "width": "350px"
   },
   "types_to_exclude": [
    "module",
    "function",
    "builtin_function_or_method",
    "instance",
    "_Feature"
   ],
   "window_display": false
  }
 },
 "nbformat": 4,
 "nbformat_minor": 5
}
